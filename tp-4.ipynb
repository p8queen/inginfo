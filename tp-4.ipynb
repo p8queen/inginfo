{
 "cells": [
  {
   "cell_type": "code",
   "execution_count": 5,
   "metadata": {},
   "outputs": [
    {
     "name": "stdout",
     "output_type": "stream",
     "text": [
      "El factorial de 5 es 120\n"
     ]
    }
   ],
   "source": [
    "#10. El factorial de N\n",
    "\n",
    "num = int(input(\"Introduce un número mayor que 0: \"))\n",
    "while num <= 0:\n",
    "    num = int(input(\"Introduce un número mayor que 0: \"))\n",
    "\n",
    "aux = num\n",
    "factorial = 1\n",
    "while num > 1:\n",
    "    factorial *= num\n",
    "    num -= 1\n",
    "print(\"El factorial de\", aux, \"es\", factorial)"
   ]
  },
  {
   "cell_type": "code",
   "execution_count": 11,
   "metadata": {},
   "outputs": [
    {
     "name": "stdout",
     "output_type": "stream",
     "text": [
      "97 es primo\n"
     ]
    }
   ],
   "source": [
    "h = int(input(\"Introduce un número mayor que 1: \"))\n",
    "while h <= 1:\n",
    "    h = int(input(\"Error: introduce un número mayor que 1: \"))\n",
    "# usar while para indicar si h es primo\n",
    "# si en el while no encuentra divisores no es primo\n",
    "# solo busca divisores entre 2 y h**0.5\n",
    "divisores = 0\n",
    "divisor = int(h**0.5)\n",
    "while divisor > 1 and divisores==0:\n",
    "    if h%divisor == 0:\n",
    "        divisores += 1\n",
    "    divisor -= 1\n",
    "\n",
    "if divisores == 0:\n",
    "    print(h, \"es primo\")\n",
    "else:\n",
    "    print(h, \"no es primo\")\n",
    "\n",
    "\n"
   ]
  }
 ],
 "metadata": {
  "kernelspec": {
   "display_name": ".venv",
   "language": "python",
   "name": "python3"
  },
  "language_info": {
   "codemirror_mode": {
    "name": "ipython",
    "version": 3
   },
   "file_extension": ".py",
   "mimetype": "text/x-python",
   "name": "python",
   "nbconvert_exporter": "python",
   "pygments_lexer": "ipython3",
   "version": "3.11.7"
  }
 },
 "nbformat": 4,
 "nbformat_minor": 2
}
