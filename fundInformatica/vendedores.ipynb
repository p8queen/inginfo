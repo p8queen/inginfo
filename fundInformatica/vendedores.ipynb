{
 "cells": [
  {
   "cell_type": "code",
   "execution_count": 6,
   "metadata": {},
   "outputs": [
    {
     "name": "stdout",
     "output_type": "stream",
     "text": [
      "--- exit ---\n",
      "numero de vendedor:  -1 12\n"
     ]
    }
   ],
   "source": [
    "vendedor = int(input(\"INGRESE EL NUMERO DE VENDEDOR: \"))\n",
    "if vendedor == -1:\n",
    "    print('--- exit ---')\n",
    "importe = int(input(\"INGRESE EL importe: \"))\n",
    "print('numero de vendedor: ', vendedor, importe)"
   ]
  }
 ],
 "metadata": {
  "kernelspec": {
   "display_name": ".venv",
   "language": "python",
   "name": "python3"
  },
  "language_info": {
   "codemirror_mode": {
    "name": "ipython",
    "version": 3
   },
   "file_extension": ".py",
   "mimetype": "text/x-python",
   "name": "python",
   "nbconvert_exporter": "python",
   "pygments_lexer": "ipython3",
   "version": "3.11.7"
  }
 },
 "nbformat": 4,
 "nbformat_minor": 2
}
