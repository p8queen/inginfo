{
 "cells": [
  {
   "cell_type": "code",
   "execution_count": 23,
   "metadata": {},
   "outputs": [
    {
     "data": {
      "text/plain": [
       "[2, 4, 7, 8, 9, 10]"
      ]
     },
     "execution_count": 23,
     "metadata": {},
     "output_type": "execute_result"
    }
   ],
   "source": [
    "def unique(xs):\n",
    "    if len(xs) == 0:\n",
    "        return []\n",
    "    else:\n",
    "        h, xs = xs[0], xs[1:]\n",
    "        return [h] + unique([x for x in xs if x != h])\n",
    "\n",
    "a = [2,4,7,8,4,9,2,4,10]\n",
    "b = unique(a)\n",
    "b\n",
    "  \n"
   ]
  },
  {
   "cell_type": "code",
   "execution_count": 3,
   "metadata": {},
   "outputs": [
    {
     "name": "stdout",
     "output_type": "stream",
     "text": [
      "data:  [2, 4, 7, 8, 4, 9, 2, 4, 10]\n",
      "unique:  [7, 8, 9, 2, 4, 10]\n"
     ]
    }
   ],
   "source": [
    "def unique_v2(xs):\n",
    "    if len(xs) == 0:\n",
    "        return []\n",
    "    else:\n",
    "        head, tails = xs[0], xs[1:]\n",
    "        i = 0\n",
    "        while i < len(tails) :\n",
    "            if head == tails[i]:\n",
    "                return unique_v2(tails)\n",
    "            i = i + 1\n",
    "        return [head] + unique_v2(tails)\n",
    "\n",
    "a = [2,4,7,8,4,9,2,4,10]\n",
    "b = unique_v2(a)\n",
    "\n",
    "print('data: ', a)\n",
    "print('unique: ', b)\n",
    "    "
   ]
  }
 ],
 "metadata": {
  "kernelspec": {
   "display_name": ".venv",
   "language": "python",
   "name": "python3"
  },
  "language_info": {
   "codemirror_mode": {
    "name": "ipython",
    "version": 3
   },
   "file_extension": ".py",
   "mimetype": "text/x-python",
   "name": "python",
   "nbconvert_exporter": "python",
   "pygments_lexer": "ipython3",
   "version": "3.11.7"
  }
 },
 "nbformat": 4,
 "nbformat_minor": 2
}
