{
 "cells": [
  {
   "cell_type": "code",
   "execution_count": 1,
   "metadata": {},
   "outputs": [
    {
     "name": "stdout",
     "output_type": "stream",
     "text": [
      "2 finded\n",
      "4 finded\n",
      "4 finded\n"
     ]
    },
    {
     "ename": "TypeError",
     "evalue": "bad operand type for unary +: 'list'",
     "output_type": "error",
     "traceback": [
      "\u001b[1;31m---------------------------------------------------------------------------\u001b[0m",
      "\u001b[1;31mTypeError\u001b[0m                                 Traceback (most recent call last)",
      "Cell \u001b[1;32mIn[1], line 11\u001b[0m\n\u001b[0;32m      8\u001b[0m         \u001b[38;5;28;01mreturn\u001b[39;00m h \u001b[38;5;241m+\u001b[39m\u001b[38;5;241m+\u001b[39m unique(xs)\n\u001b[0;32m     10\u001b[0m a \u001b[38;5;241m=\u001b[39m [\u001b[38;5;241m2\u001b[39m,\u001b[38;5;241m4\u001b[39m,\u001b[38;5;241m7\u001b[39m,\u001b[38;5;241m8\u001b[39m,\u001b[38;5;241m4\u001b[39m,\u001b[38;5;241m9\u001b[39m,\u001b[38;5;241m2\u001b[39m,\u001b[38;5;241m4\u001b[39m]\n\u001b[1;32m---> 11\u001b[0m b \u001b[38;5;241m=\u001b[39m \u001b[43munique\u001b[49m\u001b[43m(\u001b[49m\u001b[43ma\u001b[49m\u001b[43m)\u001b[49m\n\u001b[0;32m     12\u001b[0m b\n",
      "Cell \u001b[1;32mIn[1], line 8\u001b[0m, in \u001b[0;36munique\u001b[1;34m(xs)\u001b[0m\n\u001b[0;32m      6\u001b[0m \u001b[38;5;28;01mif\u001b[39;00m h \u001b[38;5;129;01min\u001b[39;00m xs:\n\u001b[0;32m      7\u001b[0m     \u001b[38;5;28mprint\u001b[39m(h, \u001b[38;5;124m'\u001b[39m\u001b[38;5;124mfinded\u001b[39m\u001b[38;5;124m'\u001b[39m)\n\u001b[1;32m----> 8\u001b[0m \u001b[38;5;28;01mreturn\u001b[39;00m h \u001b[38;5;241m+\u001b[39m\u001b[38;5;241m+\u001b[39m \u001b[43munique\u001b[49m\u001b[43m(\u001b[49m\u001b[43mxs\u001b[49m\u001b[43m)\u001b[49m\n",
      "Cell \u001b[1;32mIn[1], line 8\u001b[0m, in \u001b[0;36munique\u001b[1;34m(xs)\u001b[0m\n\u001b[0;32m      6\u001b[0m \u001b[38;5;28;01mif\u001b[39;00m h \u001b[38;5;129;01min\u001b[39;00m xs:\n\u001b[0;32m      7\u001b[0m     \u001b[38;5;28mprint\u001b[39m(h, \u001b[38;5;124m'\u001b[39m\u001b[38;5;124mfinded\u001b[39m\u001b[38;5;124m'\u001b[39m)\n\u001b[1;32m----> 8\u001b[0m \u001b[38;5;28;01mreturn\u001b[39;00m h \u001b[38;5;241m+\u001b[39m\u001b[38;5;241m+\u001b[39m \u001b[43munique\u001b[49m\u001b[43m(\u001b[49m\u001b[43mxs\u001b[49m\u001b[43m)\u001b[49m\n",
      "    \u001b[1;31m[... skipping similar frames: unique at line 8 (5 times)]\u001b[0m\n",
      "Cell \u001b[1;32mIn[1], line 8\u001b[0m, in \u001b[0;36munique\u001b[1;34m(xs)\u001b[0m\n\u001b[0;32m      6\u001b[0m \u001b[38;5;28;01mif\u001b[39;00m h \u001b[38;5;129;01min\u001b[39;00m xs:\n\u001b[0;32m      7\u001b[0m     \u001b[38;5;28mprint\u001b[39m(h, \u001b[38;5;124m'\u001b[39m\u001b[38;5;124mfinded\u001b[39m\u001b[38;5;124m'\u001b[39m)\n\u001b[1;32m----> 8\u001b[0m \u001b[38;5;28;01mreturn\u001b[39;00m h \u001b[38;5;241m+\u001b[39m\u001b[38;5;241;43m+\u001b[39;49m\u001b[43m \u001b[49m\u001b[43munique\u001b[49m\u001b[43m(\u001b[49m\u001b[43mxs\u001b[49m\u001b[43m)\u001b[49m\n",
      "\u001b[1;31mTypeError\u001b[0m: bad operand type for unary +: 'list'"
     ]
    }
   ],
   "source": [
    "def unique(xs):\n",
    "    if len(xs) == 0:\n",
    "        return []\n",
    "    else: \n",
    "        h, xs = xs[0], xs[1:]\n",
    "        if h in xs:\n",
    "            print(h, 'finded')\n",
    "        return [h].append(unique(xs))\n",
    "\n",
    "a = [2,4,7,8,4,9,2,4]\n",
    "b = unique(a)\n",
    "b"
   ]
  }
 ],
 "metadata": {
  "kernelspec": {
   "display_name": ".venv",
   "language": "python",
   "name": "python3"
  },
  "language_info": {
   "codemirror_mode": {
    "name": "ipython",
    "version": 3
   },
   "file_extension": ".py",
   "mimetype": "text/x-python",
   "name": "python",
   "nbconvert_exporter": "python",
   "pygments_lexer": "ipython3",
   "version": "3.11.7"
  }
 },
 "nbformat": 4,
 "nbformat_minor": 2
}
