{
 "cells": [
  {
   "cell_type": "code",
   "execution_count": 3,
   "metadata": {},
   "outputs": [
    {
     "name": "stdout",
     "output_type": "stream",
     "text": [
      "[64, 34, 25, 12, 90, 11, 22]\n",
      "[11, 12, 22, 25, 34, 64, 90]\n"
     ]
    }
   ],
   "source": [
    "# algo sort bubble\n",
    "\n",
    "# Bubble Sort is the simplest sorting algorithm that works by repeatedly swapping the adjacent \n",
    "#  elements if they are in wrong order.\n",
    "# pass n times, each time the largest element will \n",
    "# be placed at the end of the array\n",
    "# time complexity O(n^2)\n",
    "def bubble_sort(arr):\n",
    "    n = len(arr)\n",
    "    for i in range(n):\n",
    "        for j in range(0, n-i-1):\n",
    "            if arr[j] > arr[j+1]:\n",
    "                arr[j], arr[j+1] = arr[j+1], arr[j]\n",
    "    return arr\n",
    "\n",
    "a = [64, 34, 25, 12, 90, 11, 22]\n",
    "print('unsorted', a)\n",
    "print('sorted', bubble_sort(a))\n"
   ]
  },
  {
   "cell_type": "code",
   "execution_count": 5,
   "metadata": {},
   "outputs": [
    {
     "name": "stdout",
     "output_type": "stream",
     "text": [
      "unsorted [64, 34, 25, 12, 90, 11, 22]\n",
      "sorted [11, 12, 22, 25, 34, 64, 90]\n"
     ]
    }
   ],
   "source": [
    "# quick sort algorithm\n",
    "# time complexity O(nlogn)\n",
    "# divide and conquer algorithm\n",
    "# select a pivot element, partition the array into two parts\n",
    "# elements less than pivot and elements greater than pivot\n",
    "# recursively sort the two parts\n",
    "\n",
    "\n",
    "def quick_sort(arr):\n",
    "    if len(arr) <= 1:\n",
    "        return arr\n",
    "    pivot = arr[len(arr)//2] # select the middle element as pivot\n",
    "    left = []\n",
    "    right = []\n",
    "    middle = []\n",
    "    for i in arr:\n",
    "        if i < pivot:\n",
    "            left.append(i)\n",
    "        elif i > pivot:\n",
    "            right.append(i)\n",
    "        else:\n",
    "            middle.append(i)\n",
    "    \n",
    "    return quick_sort(left) + middle + quick_sort(right)\n",
    "\n",
    "a = [64, 34, 25, 12, 90, 11, 22]\n",
    "print('unsorted', a)\n",
    "print('sorted', quick_sort(a))\n"
   ]
  },
  {
   "cell_type": "code",
   "execution_count": 1,
   "metadata": {},
   "outputs": [
    {
     "name": "stdout",
     "output_type": "stream",
     "text": [
      "unsorted [64, 34, 25, 12, 90, 11, 22]\n",
      "sorted [11, 12, 22, 25, 34, 64, 90]\n"
     ]
    }
   ],
   "source": [
    "#insertion_sort \n",
    "\n",
    "def insertion_sort(arr):\n",
    "    for i in range(1, len(arr)):\n",
    "        key = arr[i]\n",
    "        j = i-1\n",
    "        while j >= 0 and key < arr[j]:\n",
    "            arr[j+1] = arr[j]\n",
    "            j -= 1\n",
    "        arr[j+1] = key\n",
    "    return arr\n",
    "\n",
    "a = [64, 34, 25, 12, 90, 11, 22]\n",
    "print('unsorted', a)\n",
    "print('sorted', insertion_sort(a))\n"
   ]
  },
  {
   "cell_type": "code",
   "execution_count": 22,
   "metadata": {},
   "outputs": [
    {
     "name": "stdout",
     "output_type": "stream",
     "text": [
      "[2, 4, 6, 9, 8, 7, 3, 1, 0, 5]\n",
      "[0, 1, 2, 3, 4, 5, 6, 7, 8, 9]\n"
     ]
    }
   ],
   "source": [
    "import random as rnd\n",
    "\n",
    "def insertion_sort_v3(arr):\n",
    "    for i in range(1,len(arr)):\n",
    "        p = i\n",
    "        while p>0 and arr[p] < arr[p-1]:\n",
    "            # swap\n",
    "            arr[p], arr[p-1] = arr[p-1], arr[p]\n",
    "            p -= 1\n",
    "\n",
    "\n",
    "a = [3,5,2,7,9,1,4,6,8,0]\n",
    "rnd.shuffle(a)\n",
    "print(a)\n",
    "insertion_sort_v3(a)\n",
    "print(a)"
   ]
  },
  {
   "cell_type": "code",
   "execution_count": 25,
   "metadata": {},
   "outputs": [
    {
     "name": "stdout",
     "output_type": "stream",
     "text": [
      "[5, 6, 0, 4, 2, 9, 3, 8, 7, 1]\n",
      "[0, 1, 2, 3, 4, 5, 6, 7, 8, 9]\n"
     ]
    }
   ],
   "source": [
    "def bubble_sort_v2(arr):\n",
    "    n = len(arr)\n",
    "    for i in range(n):\n",
    "        for j in range(0, n-i-1):\n",
    "            if arr[j] > arr[j+1]:\n",
    "                arr[j], arr[j+1] = arr[j+1], arr[j]\n",
    "\n",
    "a = [3,5,2,7,9,1,4,6,8,0]\n",
    "rnd.shuffle(a)\n",
    "print(a)\n",
    "bubble_sort_v2(a)\n",
    "print(a)"
   ]
  },
  {
   "cell_type": "code",
   "execution_count": 16,
   "metadata": {},
   "outputs": [
    {
     "name": "stdout",
     "output_type": "stream",
     "text": [
      "[5, 1, 3, 2, 2, 1, 3, 1, 2, 1, 5, 5]\n",
      "[1, 1, 1, 1, 2, 2, 2, 3, 3, 5, 5, 5]\n",
      "[4, 7, 9]\n",
      "[1, 1, 1, 1]\n",
      "[2, 2, 2]\n",
      "[3, 3]\n",
      "[5, 5, 5]\n"
     ]
    }
   ],
   "source": [
    "def split_array(arr):\n",
    "    ls_positions = []\n",
    "    for i in range(1,len(arr)):\n",
    "        if arr[i] > arr[i-1]:\n",
    "            ls_positions.append(i)\n",
    "    return ls_positions\n",
    "        \n",
    "b = [1,1,1,1,3,3,2,2,2,5,5,5]\n",
    "rnd.shuffle(b)\n",
    "print(b)\n",
    "insertion_sort_v3(b)\n",
    "print(b)\n",
    "print(split_array(b))\n",
    "\n",
    "j = 0\n",
    "for x in split_array(b):\n",
    "    print(b[j:x])\n",
    "    j = x\n",
    "print(b[j:])\n",
    "\n",
    "    "
   ]
  },
  {
   "cell_type": "code",
   "execution_count": 30,
   "metadata": {},
   "outputs": [
    {
     "name": "stdout",
     "output_type": "stream",
     "text": [
      "[2, 9, 3, 4, 7, 5, 1, 6, 0, 8]\n",
      "[1, 1, 1, 3, 3, 2, 3, 1, 2, 1]\n",
      "---- result ----\n",
      "[2, 9, 3, 6, 8, 5, 0, 4, 7, 1]\n",
      "[1, 1, 1, 1, 1, 2, 2, 3, 3, 3]\n",
      "---- result ----\n",
      "[2, 3, 6, 8, 9, 0, 5, 1, 4, 7]\n",
      "[1, 1, 1, 1, 1, 2, 2, 3, 3, 3]\n"
     ]
    }
   ],
   "source": [
    "# data from a are related to data from b\n",
    "# sort a and b in the same way\n",
    "# if two elements in a are equal, then sort them by b\n",
    "\n",
    "def insertion_sort_double(arr_ids, arr_cant):\n",
    "    for i in range(1,len(arr_cant)):\n",
    "        p = i\n",
    "        while p>0 and arr_cant[p] < arr_cant[p-1]:\n",
    "            # swap\n",
    "            arr_cant[p], arr_cant[p-1] = arr_cant[p-1], arr_cant[p]\n",
    "            arr_ids[p], arr_ids[p-1] = arr_ids[p-1], arr_ids[p]\n",
    "            p -= 1\n",
    "\n",
    "def insertion_sort_double_second(a, b):\n",
    "    for i in range(1,len(a)):\n",
    "        p = i\n",
    "        while p>0 and a[p] < a[p-1] and b[p] == b[p-1]:\n",
    "            # swap\n",
    "            a[p], a[p-1] = a[p-1], a[p]\n",
    "            p -= 1\n",
    "\n",
    "\n",
    "a = [3,5,2,7,9,1,4,6,8,0]\n",
    "rnd.shuffle(a)\n",
    "b = [1,1,1,3,3,2,3,1,2,1]\n",
    "\n",
    "print(a)\n",
    "print(b)\n",
    "insertion_sort_double(a,b)\n",
    "print('---- result ----')\n",
    "print(a)\n",
    "print(b)\n",
    "insertion_sort_double_second(a,b)\n",
    "print('---- result ----')\n",
    "print(a)\n",
    "print(b)"
   ]
  }
 ],
 "metadata": {
  "kernelspec": {
   "display_name": ".venv",
   "language": "python",
   "name": "python3"
  },
  "language_info": {
   "codemirror_mode": {
    "name": "ipython",
    "version": 3
   },
   "file_extension": ".py",
   "mimetype": "text/x-python",
   "name": "python",
   "nbconvert_exporter": "python",
   "pygments_lexer": "ipython3",
   "version": "3.11.7"
  }
 },
 "nbformat": 4,
 "nbformat_minor": 2
}
