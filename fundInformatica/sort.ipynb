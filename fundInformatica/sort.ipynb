{
 "cells": [
  {
   "cell_type": "code",
   "execution_count": 3,
   "metadata": {},
   "outputs": [
    {
     "name": "stdout",
     "output_type": "stream",
     "text": [
      "[64, 34, 25, 12, 90, 11, 22]\n",
      "[11, 12, 22, 25, 34, 64, 90]\n"
     ]
    }
   ],
   "source": [
    "# algo sort bubble\n",
    "\n",
    "# Bubble Sort is the simplest sorting algorithm that works by repeatedly swapping the adjacent \n",
    "#  elements if they are in wrong order.\n",
    "# pass n times, each time the largest element will \n",
    "# be placed at the end of the array\n",
    "# time complexity O(n^2)\n",
    "def bubble_sort(arr):\n",
    "    n = len(arr)\n",
    "    for i in range(n):\n",
    "        for j in range(0, n-i-1):\n",
    "            if arr[j] > arr[j+1]:\n",
    "                arr[j], arr[j+1] = arr[j+1], arr[j]\n",
    "    return arr\n",
    "\n",
    "a = [64, 34, 25, 12, 90, 11, 22]\n",
    "print('unsorted', a)\n",
    "print('sorted', bubble_sort(a))\n"
   ]
  },
  {
   "cell_type": "code",
   "execution_count": 5,
   "metadata": {},
   "outputs": [
    {
     "name": "stdout",
     "output_type": "stream",
     "text": [
      "unsorted [64, 34, 25, 12, 90, 11, 22]\n",
      "sorted [11, 12, 22, 25, 34, 64, 90]\n"
     ]
    }
   ],
   "source": [
    "# quick sort algorithm\n",
    "# time complexity O(nlogn)\n",
    "\n",
    "\n",
    "def quick_sort(arr):\n",
    "    if len(arr) <= 1:\n",
    "        return arr\n",
    "    pivot = arr[len(arr)//2] # select the middle element as pivot\n",
    "    left = []\n",
    "    right = []\n",
    "    middle = []\n",
    "    for i in arr:\n",
    "        if i < pivot:\n",
    "            left.append(i)\n",
    "        elif i > pivot:\n",
    "            right.append(i)\n",
    "        else:\n",
    "            middle.append(i)\n",
    "    \n",
    "    return quick_sort(left) + middle + quick_sort(right)\n",
    "\n",
    "a = [64, 34, 25, 12, 90, 11, 22]\n",
    "print('unsorted', a)\n",
    "print('sorted', quick_sort(a))\n"
   ]
  }
 ],
 "metadata": {
  "kernelspec": {
   "display_name": ".venv",
   "language": "python",
   "name": "python3"
  },
  "language_info": {
   "codemirror_mode": {
    "name": "ipython",
    "version": 3
   },
   "file_extension": ".py",
   "mimetype": "text/x-python",
   "name": "python",
   "nbconvert_exporter": "python",
   "pygments_lexer": "ipython3",
   "version": "3.11.7"
  }
 },
 "nbformat": 4,
 "nbformat_minor": 2
}
