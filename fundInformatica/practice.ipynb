{
 "cells": [
  {
   "cell_type": "markdown",
   "metadata": {},
   "source": [
    "- Cargar una lista con 30 valores, generados aleatoriamente y que no se repitan, comprendidos entre 1 y 70\n",
    "- Ingresar un dato por teclado, el que deberá estar comprendido entre los valores indicados.\n",
    "- Buscarlo en la lista obtenido utilizando la búsqueda binaria.\n",
    "- Si el valor no está, informarlo y permitir el ingreso de un nuevo dato a buscar\n",
    "- Si el valor está, informar si es un número deficiente\n",
    "\n",
    "**Número deficiente:** Número que es mayor a la suma de sus divisores, sin considerar el propio número. Ej 8>1+2+4"
   ]
  },
  {
   "cell_type": "code",
   "execution_count": 1,
   "metadata": {},
   "outputs": [
    {
     "name": "stdout",
     "output_type": "stream",
     "text": [
      "[2, 5, 6, 7, 8, 9, 11, 13, 22, 27, 31, 32, 33, 36, 37, 42, 44, 46, 47, 51, 53, 54, 56, 57, 58, 59, 61, 67, 70]\n"
     ]
    }
   ],
   "source": [
    "# si bien hay una manera corta de hacerlo, se optó por hacerlo de manera más entendible \n",
    "# y acorde al total requerimiento del ejercicio. \n",
    "# la manera corta seria una lista de ordenada de 1 a 70 y se remueven posiciones aleatorias \n",
    "# hasta que se llegue a la cantidad de 30 numeros requeridos.\n",
    "# Pero Se debe mostrar como ordenar, evitar aleatorios duplicados y busqueda binaria.\n",
    "\n",
    "import random\n",
    "\n",
    "def binary_search(arr, x):\n",
    "    low = 0\n",
    "    high = len(arr) - 1\n",
    "    while low <= high:\n",
    "        mid = (low + high) // 2\n",
    "        if arr[mid] < x:\n",
    "            low = mid + 1\n",
    "        elif arr[mid] > x:\n",
    "            high = mid - 1\n",
    "        else:\n",
    "            return mid\n",
    "    return -1\n",
    "\n",
    "def quick_sort(arr):\n",
    "    if len(arr) <= 1:\n",
    "        return arr\n",
    "    pivot = arr[len(arr)//2] # select the middle element as pivot\n",
    "    left = []\n",
    "    right = []\n",
    "    middle = []\n",
    "    for i in arr:\n",
    "        if i < pivot:\n",
    "            left.append(i)\n",
    "        elif i > pivot:\n",
    "            right.append(i)\n",
    "        else:\n",
    "            middle.append(i)\n",
    "    \n",
    "    return quick_sort(left) + middle + quick_sort(right)\n",
    "\n",
    "def generar_lista_aleatoria():\n",
    "    lista = [random.randint(1, 70)]\n",
    "    while len(lista) < 29:\n",
    "        numero = random.randint(1, 70)\n",
    "        if binary_search(lista, numero) == -1: # no usar 'not in'\n",
    "            lista.append(numero)\n",
    "        lista = quick_sort(lista)\n",
    "    return lista\n",
    "\n",
    "random_list = generar_lista_aleatoria()\n",
    "print(random_list)"
   ]
  },
  {
   "cell_type": "code",
   "execution_count": 8,
   "metadata": {},
   "outputs": [
    {
     "name": "stdout",
     "output_type": "stream",
     "text": [
      "El número 8 está en la lista y es deficiente\n",
      "El número 22 está en la lista y es deficiente\n"
     ]
    }
   ],
   "source": [
    "# Decir si un Número es numero deficiente: Número que es mayor a la suma de sus divisores, sin considerar el propio número. Ej 8>1+2+4=7\n",
    "\n",
    "def es_numero_deficiente(n):\n",
    "    suma = 0\n",
    "    for divisor in range(1, n):\n",
    "        if n % divisor == 0: # si es divisor\n",
    "            suma = suma + divisor # sumar divisor\n",
    "    return suma < n # si la suma es menor al numero, es deficiente\n",
    "\n",
    "# Si el valor está en random list, informar si es un número deficiente\n",
    "def informar_numero_deficiente(valor):\n",
    "    if binary_search(random_list, valor) != -1:\n",
    "        str_result = \"deficiente\" if es_numero_deficiente(valor) else \"no deficiente\"\n",
    "        print(f\"El número {valor} está en la lista y es {str_result}\")\n",
    "    else:\n",
    "        print(f\"El número {valor} no está en la lista\")\n",
    "\n",
    "informar_numero_deficiente(8)\n",
    "informar_numero_deficiente(22)"
   ]
  },
  {
   "cell_type": "code",
   "execution_count": 10,
   "metadata": {},
   "outputs": [
    {
     "name": "stdout",
     "output_type": "stream",
     "text": [
      "123\n",
      "987654321\n"
     ]
    }
   ],
   "source": [
    "# invertir un numero entero 321 -> 123\n",
    "def invertir_numero(n):\n",
    "    result = 0\n",
    "    while n > 0:\n",
    "        result = result * 10 + n % 10\n",
    "        n = n // 10\n",
    "    return result\n",
    "\n",
    "print(invertir_numero(321)) # 123\n",
    "print(invertir_numero(123456789)) "
   ]
  },
  {
   "cell_type": "code",
   "execution_count": 12,
   "metadata": {},
   "outputs": [
    {
     "name": "stdout",
     "output_type": "stream",
     "text": [
      "[1, 2, 3, 4, 5, 6, 7, 8, 9]\n",
      "[1, 2, 3, 4, 5, 6, 7, 8, 9]\n",
      "[1, 2, 3, 4, 5, 6, 7, 8, 9, 10]\n",
      "[]\n"
     ]
    }
   ],
   "source": [
    "# recibir un vector, ordenar ascendentemente y remover duplicados\n",
    "def unique_v2(xs):\n",
    "    if len(xs) == 0:\n",
    "        return []\n",
    "    else:\n",
    "        head, tails = xs[0], xs[1:]\n",
    "        i = 0\n",
    "        while i < len(tails) :\n",
    "            if head == tails[i]:\n",
    "                return unique_v2(tails)\n",
    "            i = i + 1\n",
    "        return [head] + unique_v2(tails)\n",
    "    \n",
    "def ordenar_y_remover_duplicados(arr):\n",
    "    arr = unique_v2(arr)\n",
    "    return quick_sort(arr)\n",
    "\n",
    "print(ordenar_y_remover_duplicados([1, 2, 3, 4, 5, 6, 7, 8, 9, 1, 2, 3, 4, 5, 6, 7, 8, 9])) # [1, 2, 3, 4, 5, 6, 7, 8, 9]\n",
    "print(ordenar_y_remover_duplicados([1, 2, 3, 4, 5, 6, 7, 8, 9])) # [1, 2, 3, 4, 5, 6, 7, 8, 9]\n",
    "print(ordenar_y_remover_duplicados([1, 2, 3, 4, 5, 6, 7, 8, 9, 1, 2, 3, 4, 5, 6, 7, 8, 9, 10])) # [1, 2, 3, 4, 5, 6, 7, 8, 9, 10]\n",
    "print(ordenar_y_remover_duplicados([])) # []"
   ]
  },
  {
   "cell_type": "code",
   "execution_count": 18,
   "metadata": {},
   "outputs": [
    {
     "name": "stdout",
     "output_type": "stream",
     "text": [
      "Vendedor 1: 1200 en 3 ventas\n",
      "Vendedor 2: 2500 en 4 ventas\n",
      "Vendedor 3: 1800 en 3 ventas\n",
      "Vendedor con más ventas: 2 con 2500\n",
      "Vendedor con más cantidad de ventas: 2 con 4\n"
     ]
    }
   ],
   "source": [
    "# vendedor y ventas. más maximos \n",
    "vendedores = [1,2,3,1,2,3,1,2,3,2]\n",
    "ventas = [100,200,300,400,500,600,700,800,1900,1000]\n",
    "\n",
    "def ventas_por_vendedor(vendedor):\n",
    "    # regresar suma y cantidad de ventas por vendedor\n",
    "    suma = 0\n",
    "    cantidad = 0\n",
    "    for i in range(len(vendedores)):\n",
    "        if vendedores[i] == vendedor:\n",
    "            suma = suma + ventas[i]\n",
    "            cantidad = cantidad + 1\n",
    "    return suma, cantidad\n",
    "\n",
    "def total_ventas():\n",
    "    max_suma = 0\n",
    "    max_cantidad = 0\n",
    "    max_vendedor_suma = 0\n",
    "    max_vendedor_cantidad = 0\n",
    "    for z in range(1, 4):\n",
    "        suma, cantidad = ventas_por_vendedor(z)\n",
    "        if suma > max_suma:\n",
    "            max_suma = suma\n",
    "            max_vendedor_suma = z\n",
    "        if cantidad > max_cantidad:\n",
    "            max_cantidad = cantidad\n",
    "            max_vendedor_cantidad = z\n",
    "\n",
    "        print(f\"Vendedor {z}: {suma} en {cantidad} ventas\")\n",
    "    print(f\"Vendedor con más ventas: {max_vendedor_suma} con {max_suma}\")\n",
    "    print(f\"Vendedor con más cantidad de ventas: {max_vendedor_cantidad} con {max_cantidad}\")\n",
    "\n",
    "\n",
    "total_ventas()\n",
    "\n"
   ]
  }
 ],
 "metadata": {
  "kernelspec": {
   "display_name": ".venv",
   "language": "python",
   "name": "python3"
  },
  "language_info": {
   "codemirror_mode": {
    "name": "ipython",
    "version": 3
   },
   "file_extension": ".py",
   "mimetype": "text/x-python",
   "name": "python",
   "nbconvert_exporter": "python",
   "pygments_lexer": "ipython3",
   "version": "3.11.7"
  }
 },
 "nbformat": 4,
 "nbformat_minor": 2
}
