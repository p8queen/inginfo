{
 "cells": [
  {
   "cell_type": "markdown",
   "metadata": {},
   "source": [
    "- Cargar una lista con 30 valores, generados aleatoriamente y que no se repitan, comprendidos entre 1 y 70\n",
    "- Ingresar un dato por teclado, el que deberá estar comprendido entre los valores indicados.\n",
    "- Buscarlo en la lista obtenido utilizando la búsqueda binaria.\n",
    "- Si el valor no está, informarlo y permitir el ingreso de un nuevo dato a buscar\n",
    "- Si el valor está, informar si es un número deficiente\n",
    "\n",
    "**Número deficiente:** Número que es mayor a la suma de sus divisores, sin considerar el propio número. Ej 8>1+2+4"
   ]
  },
  {
   "cell_type": "code",
   "execution_count": 1,
   "metadata": {},
   "outputs": [
    {
     "name": "stdout",
     "output_type": "stream",
     "text": [
      "[2, 5, 6, 7, 8, 9, 11, 13, 22, 27, 31, 32, 33, 36, 37, 42, 44, 46, 47, 51, 53, 54, 56, 57, 58, 59, 61, 67, 70]\n"
     ]
    }
   ],
   "source": [
    "# si bien hay una manera corta de hacerlo, se optó por hacerlo de manera más entendible \n",
    "# y acorde al total requerimiento del ejercicio. \n",
    "# la manera corta seria una lista de ordenada de 1 a 70 y se remueven posiciones aleatorias \n",
    "# hasta que se llegue a la cantidad de 30 numeros requeridos.\n",
    "# Pero Se debe mostrar como ordenar, evitar aleatorios duplicados y busqueda binaria.\n",
    "\n",
    "import random\n",
    "\n",
    "def binary_search(arr, x):\n",
    "    low = 0\n",
    "    high = len(arr) - 1\n",
    "    while low <= high:\n",
    "        mid = (low + high) // 2\n",
    "        if arr[mid] < x:\n",
    "            low = mid + 1\n",
    "        elif arr[mid] > x:\n",
    "            high = mid - 1\n",
    "        else:\n",
    "            return mid\n",
    "    return -1\n",
    "\n",
    "def quick_sort(arr):\n",
    "    if len(arr) <= 1:\n",
    "        return arr\n",
    "    pivot = arr[len(arr)//2] # select the middle element as pivot\n",
    "    left = []\n",
    "    right = []\n",
    "    middle = []\n",
    "    for i in arr:\n",
    "        if i < pivot:\n",
    "            left.append(i)\n",
    "        elif i > pivot:\n",
    "            right.append(i)\n",
    "        else:\n",
    "            middle.append(i)\n",
    "    \n",
    "    return quick_sort(left) + middle + quick_sort(right)\n",
    "\n",
    "def generar_lista_aleatoria():\n",
    "    lista = [random.randint(1, 70)]\n",
    "    while len(lista) < 29:\n",
    "        numero = random.randint(1, 70)\n",
    "        if binary_search(lista, numero) == -1: # no usar 'not in'\n",
    "            lista.append(numero)\n",
    "        lista = quick_sort(lista)\n",
    "    return lista\n",
    "\n",
    "random_list = generar_lista_aleatoria()\n",
    "print(random_list)"
   ]
  },
  {
   "cell_type": "code",
   "execution_count": 2,
   "metadata": {},
   "outputs": [
    {
     "name": "stdout",
     "output_type": "stream",
     "text": [
      "True\n",
      "False\n"
     ]
    }
   ],
   "source": [
    "# Decir si un Número es numero deficiente: Número que es mayor a la suma de sus divisores, sin considerar el propio número. Ej 8>1+2+4=7\n",
    "\n",
    "def es_numero_deficiente(n):\n",
    "    suma = 0\n",
    "    for divisor in range(1, n):\n",
    "        if n % divisor == 0: # si es divisor\n",
    "            suma = suma + divisor # sumar divisor\n",
    "    return suma < n # si la suma es menor al numero, es deficiente\n",
    "\n",
    "# Si el valor está en random list, informar si es un número deficiente\n",
    "valor_a_buscar = 8\n",
    "if binary_search(random_list, valor_a_buscar) != -1:\n",
    "    str_result = \"deficiente\" if es_numero_deficiente(valor_a_buscar) else \"no deficiente\"\n",
    "    print(f\"El número {valor_a_buscar} está en la lista y es {str_result}\")\n",
    "else:\n",
    "    print(f\"El número {valor_a_buscar} no está en la lista\")\n",
    "    "
   ]
  }
 ],
 "metadata": {
  "kernelspec": {
   "display_name": ".venv",
   "language": "python",
   "name": "python3"
  },
  "language_info": {
   "codemirror_mode": {
    "name": "ipython",
    "version": 3
   },
   "file_extension": ".py",
   "mimetype": "text/x-python",
   "name": "python",
   "nbconvert_exporter": "python",
   "pygments_lexer": "ipython3",
   "version": "3.11.7"
  }
 },
 "nbformat": 4,
 "nbformat_minor": 2
}
