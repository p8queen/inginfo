{
 "cells": [
  {
   "cell_type": "markdown",
   "metadata": {},
   "source": [
    "- Cargar una lista con 30 valores, generados aleatoriamente y que no se repitan, comprendidos entre 1 y 70\n",
    "- Ingresar un dato por teclado, el que deberá estar comprendido entre los valores indicados.\n",
    "- Buscarlo en la lista obtenido utilizando la búsqueda binaria.\n",
    "- Si el valor no está, informarlo y permitir el ingreso de un nuevo dato a buscar\n",
    "- Si el valor está, informar si es un número deficiente\n",
    "\n",
    "**Número deficiente:** Número que es mayor a la suma de sus divisores, sin considerar el propio número. Ej 8>1+2+4"
   ]
  },
  {
   "cell_type": "code",
   "execution_count": 37,
   "metadata": {},
   "outputs": [
    {
     "name": "stdout",
     "output_type": "stream",
     "text": [
      "[1, 2, 4, 10, 11, 15, 16, 19, 29, 30, 32, 34, 38, 40, 41, 43, 45, 46, 48, 49, 56, 57, 59, 60, 62, 67, 68, 69, 70]\n"
     ]
    }
   ],
   "source": [
    "# si bien hay una manera corta de hacerlo, se optó por hacerlo de manera más entendible \n",
    "# y acorde al total requerimiento del ejercicio. \n",
    "# la manera corta seria una lista de ordenada de 1 a 70 y se remueven posiciones aleatorias \n",
    "# hasta que se llegue a la cantidad de 30 numeros requeridos.\n",
    "# Pero Se debe mostrar como ordenar, evitar aleatorios duplicados y busqueda binaria.\n",
    "\n",
    "import random\n",
    "\n",
    "def binary_search(arr, x):\n",
    "    low = 0\n",
    "    high = len(arr) - 1\n",
    "    while low <= high:\n",
    "        mid = (low + high) // 2\n",
    "        if arr[mid] < x:\n",
    "            low = mid + 1\n",
    "        elif arr[mid] > x:\n",
    "            high = mid - 1\n",
    "        else:\n",
    "            return mid\n",
    "    return -1\n",
    "\n",
    "def quick_sort(arr):\n",
    "    if len(arr) <= 1:\n",
    "        return arr\n",
    "    pivot = arr[len(arr)//2] # select the middle element as pivot\n",
    "    left = []\n",
    "    right = []\n",
    "    middle = []\n",
    "    for i in arr:\n",
    "        if i < pivot:\n",
    "            left.append(i)\n",
    "        elif i > pivot:\n",
    "            right.append(i)\n",
    "        else:\n",
    "            middle.append(i)\n",
    "    \n",
    "    return quick_sort(left) + middle + quick_sort(right)\n",
    "\n",
    "def generar_lista_aleatoria():\n",
    "    lista = [random.randint(1, 70)]\n",
    "    while len(lista) < 29:\n",
    "        numero = random.randint(1, 70)\n",
    "        if binary_search(lista, numero) == -1: # no usar 'not in'\n",
    "            lista.append(numero)\n",
    "        lista = quick_sort(lista)\n",
    "    return lista\n",
    "\n",
    "random_list = generar_lista_aleatoria()\n",
    "print(random_list)"
   ]
  },
  {
   "cell_type": "code",
   "execution_count": 8,
   "metadata": {},
   "outputs": [
    {
     "name": "stdout",
     "output_type": "stream",
     "text": [
      "El número 8 está en la lista y es deficiente\n",
      "El número 22 está en la lista y es deficiente\n"
     ]
    }
   ],
   "source": [
    "# Decir si un Número es numero deficiente: Número que es mayor a la suma de sus divisores, sin considerar el propio número. Ej 8>1+2+4=7\n",
    "\n",
    "def es_numero_deficiente(n):\n",
    "    suma = 0\n",
    "    for divisor in range(1, n):\n",
    "        if n % divisor == 0: # si es divisor\n",
    "            suma = suma + divisor # sumar divisor\n",
    "    return suma < n # si la suma es menor al numero, es deficiente\n",
    "\n",
    "# Si el valor está en random list, informar si es un número deficiente\n",
    "def informar_numero_deficiente(valor):\n",
    "    if binary_search(random_list, valor) != -1:\n",
    "        str_result = \"deficiente\" if es_numero_deficiente(valor) else \"no deficiente\"\n",
    "        print(f\"El número {valor} está en la lista y es {str_result}\")\n",
    "    else:\n",
    "        print(f\"El número {valor} no está en la lista\")\n",
    "\n",
    "informar_numero_deficiente(8)\n",
    "informar_numero_deficiente(22)"
   ]
  },
  {
   "cell_type": "code",
   "execution_count": 3,
   "metadata": {},
   "outputs": [
    {
     "name": "stdout",
     "output_type": "stream",
     "text": [
      "[1, 4, 8, 0, 9, 7, 6, 5, 3, 2]\n",
      "[1, 1, 1, 3, 3, 2, 3, 1, 2, 1]\n",
      "---- result ----\n",
      "[1, 4, 8, 5, 2, 7, 3, 0, 9, 6]\n",
      "[1, 1, 1, 1, 1, 2, 2, 3, 3, 3]\n",
      "---- result ----\n",
      "[1, 2, 4, 5, 8, 3, 7, 0, 6, 9]\n",
      "[1, 1, 1, 1, 1, 2, 2, 3, 3, 3]\n"
     ]
    }
   ],
   "source": [
    "# data from a are related to data from b\n",
    "# sort a and b in the same way\n",
    "# if two elements in a are equal, then sort them by b\n",
    "import random as rnd\n",
    "\n",
    "def insertion_sort_double(arr_ids, arr_cant):\n",
    "    for i in range(1,len(arr_cant)):\n",
    "        p = i\n",
    "        while p>0 and arr_cant[p] < arr_cant[p-1]:\n",
    "            # swap\n",
    "            arr_cant[p], arr_cant[p-1] = arr_cant[p-1], arr_cant[p]\n",
    "            arr_ids[p], arr_ids[p-1] = arr_ids[p-1], arr_ids[p]\n",
    "            p -= 1\n",
    "\n",
    "def insertion_sort_double_second(a, b):\n",
    "    for i in range(1,len(a)):\n",
    "        p = i\n",
    "        while p>0 and a[p] < a[p-1] and b[p] == b[p-1]:\n",
    "            # swap\n",
    "            a[p], a[p-1] = a[p-1], a[p]\n",
    "            p -= 1\n",
    "\n",
    "\n",
    "a = [3,5,2,7,9,1,4,6,8,0]\n",
    "rnd.shuffle(a)\n",
    "b = [1,1,1,3,3,2,3,1,2,1]\n",
    "\n",
    "print(a)\n",
    "print(b)\n",
    "insertion_sort_double(a,b)\n",
    "print('---- result ----')\n",
    "print(a)\n",
    "print(b)\n",
    "insertion_sort_double_second(a,b)\n",
    "print('---- result ----')\n",
    "print(a)\n",
    "print(b)"
   ]
  },
  {
   "cell_type": "code",
   "execution_count": 10,
   "metadata": {},
   "outputs": [
    {
     "name": "stdout",
     "output_type": "stream",
     "text": [
      "123\n",
      "987654321\n"
     ]
    }
   ],
   "source": [
    "# invertir un numero entero 321 -> 123\n",
    "def invertir_numero(n):\n",
    "    result = 0\n",
    "    while n > 0:\n",
    "        result = result * 10 + n % 10\n",
    "        n = n // 10\n",
    "    return result\n",
    "\n",
    "print(invertir_numero(321)) # 123\n",
    "print(invertir_numero(123456789)) "
   ]
  },
  {
   "cell_type": "code",
   "execution_count": 12,
   "metadata": {},
   "outputs": [
    {
     "name": "stdout",
     "output_type": "stream",
     "text": [
      "[1, 2, 3, 4, 5, 6, 7, 8, 9]\n",
      "[1, 2, 3, 4, 5, 6, 7, 8, 9]\n",
      "[1, 2, 3, 4, 5, 6, 7, 8, 9, 10]\n",
      "[]\n"
     ]
    }
   ],
   "source": [
    "# recibir un vector, ordenar ascendentemente y remover duplicados\n",
    "def unique_v2(xs):\n",
    "    if len(xs) == 0:\n",
    "        return []\n",
    "    else:\n",
    "        head, tails = xs[0], xs[1:]\n",
    "        i = 0\n",
    "        while i < len(tails) :\n",
    "            if head == tails[i]:\n",
    "                return unique_v2(tails)\n",
    "            i = i + 1\n",
    "        return [head] + unique_v2(tails)\n",
    "    \n",
    "def ordenar_y_remover_duplicados(arr):\n",
    "    arr = unique_v2(arr)\n",
    "    return quick_sort(arr)\n",
    "\n",
    "print(ordenar_y_remover_duplicados([1, 2, 3, 4, 5, 6, 7, 8, 9, 1, 2, 3, 4, 5, 6, 7, 8, 9])) # [1, 2, 3, 4, 5, 6, 7, 8, 9]\n",
    "print(ordenar_y_remover_duplicados([1, 2, 3, 4, 5, 6, 7, 8, 9])) # [1, 2, 3, 4, 5, 6, 7, 8, 9]\n",
    "print(ordenar_y_remover_duplicados([1, 2, 3, 4, 5, 6, 7, 8, 9, 1, 2, 3, 4, 5, 6, 7, 8, 9, 10])) # [1, 2, 3, 4, 5, 6, 7, 8, 9, 10]\n",
    "print(ordenar_y_remover_duplicados([])) # []"
   ]
  },
  {
   "cell_type": "code",
   "execution_count": 19,
   "metadata": {},
   "outputs": [
    {
     "name": "stdout",
     "output_type": "stream",
     "text": [
      "Vendedor 1: 1200 en 3 ventas\n",
      "Vendedor 2: 2500 en 4 ventas\n",
      "Vendedor 3: 2800 en 3 ventas\n",
      "Vendedor con más ventas: 3 con 2800\n",
      "Vendedor con más cantidad de ventas: 2 con 4\n"
     ]
    }
   ],
   "source": [
    "# vendedor y ventas. más maximos \n",
    "vendedores = [1,2,3,1,2,3,1,2,3,2]\n",
    "ventas = [100,200,300,400,500,600,700,800,1900,1000]\n",
    "\n",
    "def ventas_por_vendedor(vendedor):\n",
    "    # regresar suma y cantidad de ventas por vendedor\n",
    "    suma = 0\n",
    "    cantidad = 0\n",
    "    for i in range(len(vendedores)):\n",
    "        if vendedores[i] == vendedor:\n",
    "            suma = suma + ventas[i]\n",
    "            cantidad = cantidad + 1\n",
    "    return suma, cantidad\n",
    "\n",
    "def total_ventas():\n",
    "    max_suma = 0\n",
    "    max_cantidad = 0\n",
    "    max_vendedor_suma = 0\n",
    "    max_vendedor_cantidad = 0\n",
    "    for z in range(1, 4):\n",
    "        suma, cantidad = ventas_por_vendedor(z)\n",
    "        if suma > max_suma:\n",
    "            max_suma = suma\n",
    "            max_vendedor_suma = z\n",
    "        if cantidad > max_cantidad:\n",
    "            max_cantidad = cantidad\n",
    "            max_vendedor_cantidad = z\n",
    "\n",
    "        print(f\"Vendedor {z}: {suma} en {cantidad} ventas\")\n",
    "    print(f\"Vendedor con más ventas: {max_vendedor_suma} con {max_suma}\")\n",
    "    print(f\"Vendedor con más cantidad de ventas: {max_vendedor_cantidad} con {max_cantidad}\")\n",
    "\n",
    "\n",
    "total_ventas()\n",
    "\n"
   ]
  },
  {
   "cell_type": "code",
   "execution_count": null,
   "metadata": {},
   "outputs": [],
   "source": [
    "# vendedor y ventas. más maximos \n",
    "vendedores = ['diego','diega','ana','diego','diega','ana','diego','diega','ana','ane']\n",
    "ventas = [100,100,200,100,100,100,100,100,100,400]"
   ]
  },
  {
   "cell_type": "code",
   "execution_count": 13,
   "metadata": {},
   "outputs": [
    {
     "name": "stdout",
     "output_type": "stream",
     "text": [
      "[7, 8, 12, 16, 25, 26, 33, 64]\n"
     ]
    }
   ],
   "source": [
    "# pasar datos de un vector a otro ordenado\n",
    "a = [64,33,26,25,12,16,8,7]\n",
    "b = [a[0]]\n",
    "\n",
    "for i in range(1, len(a)):\n",
    "    value = a[i]\n",
    "    p, flag = 0, False\n",
    "    while not flag:\n",
    "        if value <= b[p]:\n",
    "            flag = True\n",
    "        else:\n",
    "            p = p+1\n",
    "            if p == len(b):\n",
    "                flag = True\n",
    "    b = b[:p] + [value] + b[p:]\n",
    "\n",
    "print(b) # [7, 8, 12, 16, 25, 26, 33, 64]\n"
   ]
  },
  {
   "cell_type": "code",
   "execution_count": 31,
   "metadata": {},
   "outputs": [
    {
     "name": "stdout",
     "output_type": "stream",
     "text": [
      "True\n",
      "True\n",
      "True\n",
      "False\n",
      "True\n",
      "False\n",
      "True\n",
      "True\n"
     ]
    }
   ],
   "source": [
    "import math\n",
    "\n",
    "def es_primo(n):\n",
    "    if n <= 3:\n",
    "        return True\n",
    "    if n%2 == 0:\n",
    "        return False\n",
    "    cota = math.ceil(math.sqrt(n))\n",
    "    for i in range(3, cota, 2):\n",
    "        if n % i == 0:\n",
    "            return False\n",
    "    return True\n",
    "\n",
    "print(es_primo(1)) # True\n",
    "print(es_primo(2)) # True\n",
    "print(es_primo(3)) # True\n",
    "print(es_primo(4)) # False\n",
    "print(es_primo(5)) # True\n",
    "print(es_primo(26)) # False\n",
    "print(es_primo(31)) # True\n",
    "print(es_primo(67)) # True\n"
   ]
  },
  {
   "cell_type": "markdown",
   "metadata": {},
   "source": [
    "Ingresar un número entero y positivo y generar la siguiente serie\n",
    "\n",
    "Si el valor es impar, multiplicarlo por 3 y sumarle 1; si el valor es par, dividirlo por 2.\n",
    "\n",
    "Evaluar el resultado obtenido e Ir repitiendo las operaciones, según corresponda, hasta que el valor final sea 1\n",
    "\n",
    "Por ejemplo, se ingresa el 7\n",
    "\n",
    "7*3+1=**22**/2=**11***3+1=**34**/2=**17"
   ]
  },
  {
   "cell_type": "code",
   "execution_count": 34,
   "metadata": {},
   "outputs": [
    {
     "name": "stdout",
     "output_type": "stream",
     "text": [
      "[10, 5, 16, 8, 4, 2, 1]\n"
     ]
    }
   ],
   "source": [
    "def setSerie(n, serie = []):\n",
    "    if n == 1:\n",
    "        if len(serie) == 0:\n",
    "            serie.append(1)\n",
    "        return serie\n",
    "    if n % 2 == 0:\n",
    "        n = n // 2\n",
    "        serie.append(n)\n",
    "        setSerie(n, serie)\n",
    "    else:\n",
    "        n = 3 * n + 1\n",
    "        serie.append(n)\n",
    "        setSerie(n, serie)\n",
    "    return serie\n",
    "\n",
    "lista = setSerie(3)\n",
    "print(lista) "
   ]
  },
  {
   "cell_type": "code",
   "execution_count": 36,
   "metadata": {},
   "outputs": [
    {
     "name": "stdout",
     "output_type": "stream",
     "text": [
      "lista:  [10, 5, 16, 8, 4, 2, 1]\n",
      "5 es primo\n",
      "2 es primo\n",
      "1 es primo\n",
      "En la lista hay 3 números primos\n"
     ]
    }
   ],
   "source": [
    "# Informar si en la lista hay valores primos, y cuantos. Determinar si el valor es primo con una función\n",
    "def informar_primos(lista):\n",
    "    cantidad = 0\n",
    "    for i in lista:\n",
    "        if es_primo(i):\n",
    "            cantidad = cantidad + 1\n",
    "            print(f\"{i} es primo\")\n",
    "    print(f\"En la lista hay {cantidad} números primos\")\n",
    "\n",
    "print('lista: ', lista)\n",
    "informar_primos(lista)\n"
   ]
  },
  {
   "cell_type": "code",
   "execution_count": 40,
   "metadata": {},
   "outputs": [
    {
     "name": "stdout",
     "output_type": "stream",
     "text": [
      "[10, 5, 16, 8, 4, 2, 1]\n",
      "[16, 10, 8, 5, 4, 2, 1]\n"
     ]
    }
   ],
   "source": [
    "# Ordenar la lista de manera descendente y volverla a mostrar\n",
    "# si es necesario se crea una funcion reverse\n",
    "\n",
    "def reverse(lista):\n",
    "    lsResult = []\n",
    "    for i in range(len(lista)-1, -1, -1): \n",
    "        # se recorre la lista de manera inversa\n",
    "        # i recorre desde ultimo indice, hasta el anterior a -1, en reversa ( -1 ) \n",
    "        lsResult.append(lista[i])\n",
    "    return lsResult\n",
    "\n",
    "def ordenar_descendente(lista):\n",
    "    return reverse(quick_sort(lista))\n",
    "\n",
    "print(lista)\n",
    "print(ordenar_descendente(lista)) \n",
    "\n"
   ]
  },
  {
   "cell_type": "code",
   "execution_count": 41,
   "metadata": {},
   "outputs": [
    {
     "name": "stdout",
     "output_type": "stream",
     "text": [
      "[1, 2, 3, 4, 5]\n",
      "[5, 4, 3, 2, 1]\n"
     ]
    }
   ],
   "source": [
    "# invertir lista recursivamente\n",
    "def invertir_lista(lista):\n",
    "    if len(lista) == 0:\n",
    "        return []\n",
    "    else:\n",
    "        return [lista[-1]] + invertir_lista(lista[:-1])\n",
    "\n",
    "a = [1, 2, 3, 4, 5]\n",
    "print(a)\n",
    "print(invertir_lista(a)) # [5, 4, 3, 2, 1]\n"
   ]
  },
  {
   "cell_type": "code",
   "execution_count": 42,
   "metadata": {},
   "outputs": [
    {
     "name": "stdout",
     "output_type": "stream",
     "text": [
      "[2, 3, 5, 7, 11, 13, 17, 19, 23, 29, 31, 37, 41, 43, 47, 53, 59, 61, 67, 71, 73, 79, 83, 89, 97, 101, 103, 107, 109, 113]\n"
     ]
    }
   ],
   "source": [
    "# criba eratostenes\n",
    "\n",
    "def criba(primos=[]):\n",
    "    if len(primos) == 1:\n",
    "        return primos\n",
    "    head, tail = primos[0], primos[1:]\n",
    "    tail = [x for x in tail if x % head != 0]\n",
    "    return [head] + criba(tail)\n",
    "\n",
    "a = list(range(2,118))\n",
    "p = criba(a)\n",
    "print(p)"
   ]
  }
 ],
 "metadata": {
  "kernelspec": {
   "display_name": ".venv",
   "language": "python",
   "name": "python3"
  },
  "language_info": {
   "codemirror_mode": {
    "name": "ipython",
    "version": 3
   },
   "file_extension": ".py",
   "mimetype": "text/x-python",
   "name": "python",
   "nbconvert_exporter": "python",
   "pygments_lexer": "ipython3",
   "version": "3.11.7"
  }
 },
 "nbformat": 4,
 "nbformat_minor": 2
}
